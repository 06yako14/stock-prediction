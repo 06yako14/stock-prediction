{
 "cells": [
  {
   "cell_type": "markdown",
   "metadata": {},
   "source": [
    "# 株価予測"
   ]
  },
  {
   "cell_type": "code",
   "execution_count": 1,
   "metadata": {},
   "outputs": [],
   "source": [
    "# ライブラリインポート\n",
    "import pandas as pd\n",
    "import numpy as np\n",
    "import matplotlib.pyplot as plt\n",
    "import seaborn as sns\n",
    "\n",
    "import lightgbm as lgb\n",
    "import xgboost as xgb\n",
    "from sklearn.neural_network import MLPClassifier\n",
    "from sklearn.model_selection import train_test_split\n",
    "from sklearn.metrics import accuracy_score\n",
    "\n",
    "# 設定\n",
    "pd.options.display.max_columns = 100\n",
    "pd.options.display.max_rows = 50\n",
    "\n",
    "%matplotlib inline\n"
   ]
  },
  {
   "cell_type": "code",
   "execution_count": 2,
   "metadata": {},
   "outputs": [],
   "source": [
    "# データの読み込み\n",
    "dir_path = \"/Users/Tomoki Yako/tech/competition/SIGNATE/stock-prediction/data/\"\n",
    "train_df = pd.read_csv(dir_path + \"train.csv\", encoding='utf-8')\n",
    "test_df = pd.read_csv(dir_path + \"test.csv\", encoding='utf-8')"
   ]
  },
  {
   "cell_type": "code",
   "execution_count": 3,
   "metadata": {},
   "outputs": [
    {
     "data": {
      "text/html": [
       "<div>\n",
       "<style scoped>\n",
       "    .dataframe tbody tr th:only-of-type {\n",
       "        vertical-align: middle;\n",
       "    }\n",
       "\n",
       "    .dataframe tbody tr th {\n",
       "        vertical-align: top;\n",
       "    }\n",
       "\n",
       "    .dataframe thead th {\n",
       "        text-align: right;\n",
       "    }\n",
       "</style>\n",
       "<table border=\"1\" class=\"dataframe\">\n",
       "  <thead>\n",
       "    <tr style=\"text-align: right;\">\n",
       "      <th></th>\n",
       "      <th>Date</th>\n",
       "      <th>Open</th>\n",
       "      <th>High</th>\n",
       "      <th>Low</th>\n",
       "      <th>Close</th>\n",
       "      <th>Up</th>\n",
       "    </tr>\n",
       "  </thead>\n",
       "  <tbody>\n",
       "    <tr>\n",
       "      <th>0</th>\n",
       "      <td>2004-01-02</td>\n",
       "      <td>50.85</td>\n",
       "      <td>50.91</td>\n",
       "      <td>50.62</td>\n",
       "      <td>50.72</td>\n",
       "      <td>1</td>\n",
       "    </tr>\n",
       "    <tr>\n",
       "      <th>1</th>\n",
       "      <td>2004-01-05</td>\n",
       "      <td>50.75</td>\n",
       "      <td>50.84</td>\n",
       "      <td>50.61</td>\n",
       "      <td>50.79</td>\n",
       "      <td>1</td>\n",
       "    </tr>\n",
       "    <tr>\n",
       "      <th>2</th>\n",
       "      <td>2004-01-06</td>\n",
       "      <td>50.87</td>\n",
       "      <td>51.26</td>\n",
       "      <td>50.86</td>\n",
       "      <td>51.15</td>\n",
       "      <td>1</td>\n",
       "    </tr>\n",
       "    <tr>\n",
       "      <th>3</th>\n",
       "      <td>2004-01-07</td>\n",
       "      <td>51.45</td>\n",
       "      <td>51.54</td>\n",
       "      <td>51.29</td>\n",
       "      <td>51.51</td>\n",
       "      <td>0</td>\n",
       "    </tr>\n",
       "    <tr>\n",
       "      <th>4</th>\n",
       "      <td>2004-01-08</td>\n",
       "      <td>51.15</td>\n",
       "      <td>51.33</td>\n",
       "      <td>51.02</td>\n",
       "      <td>51.28</td>\n",
       "      <td>0</td>\n",
       "    </tr>\n",
       "  </tbody>\n",
       "</table>\n",
       "</div>"
      ],
      "text/plain": [
       "         Date   Open   High    Low  Close  Up\n",
       "0  2004-01-02  50.85  50.91  50.62  50.72   1\n",
       "1  2004-01-05  50.75  50.84  50.61  50.79   1\n",
       "2  2004-01-06  50.87  51.26  50.86  51.15   1\n",
       "3  2004-01-07  51.45  51.54  51.29  51.51   0\n",
       "4  2004-01-08  51.15  51.33  51.02  51.28   0"
      ]
     },
     "execution_count": 3,
     "metadata": {},
     "output_type": "execute_result"
    }
   ],
   "source": [
    "train_df.head()"
   ]
  },
  {
   "cell_type": "code",
   "execution_count": 4,
   "metadata": {},
   "outputs": [
    {
     "name": "stdout",
     "output_type": "stream",
     "text": [
      "<class 'pandas.core.frame.DataFrame'>\n",
      "RangeIndex: 2026 entries, 0 to 2025\n",
      "Data columns (total 6 columns):\n",
      " #   Column  Non-Null Count  Dtype  \n",
      "---  ------  --------------  -----  \n",
      " 0   Date    2026 non-null   object \n",
      " 1   Open    2026 non-null   float64\n",
      " 2   High    2026 non-null   float64\n",
      " 3   Low     2026 non-null   float64\n",
      " 4   Close   2026 non-null   float64\n",
      " 5   Up      2026 non-null   int64  \n",
      "dtypes: float64(4), int64(1), object(1)\n",
      "memory usage: 95.1+ KB\n"
     ]
    }
   ],
   "source": [
    "train_df.info()"
   ]
  },
  {
   "cell_type": "code",
   "execution_count": 5,
   "metadata": {},
   "outputs": [
    {
     "data": {
      "text/html": [
       "<div>\n",
       "<style scoped>\n",
       "    .dataframe tbody tr th:only-of-type {\n",
       "        vertical-align: middle;\n",
       "    }\n",
       "\n",
       "    .dataframe tbody tr th {\n",
       "        vertical-align: top;\n",
       "    }\n",
       "\n",
       "    .dataframe thead th {\n",
       "        text-align: right;\n",
       "    }\n",
       "</style>\n",
       "<table border=\"1\" class=\"dataframe\">\n",
       "  <thead>\n",
       "    <tr style=\"text-align: right;\">\n",
       "      <th></th>\n",
       "      <th>Date</th>\n",
       "      <th>Open</th>\n",
       "      <th>High</th>\n",
       "      <th>Low</th>\n",
       "      <th>Close</th>\n",
       "    </tr>\n",
       "  </thead>\n",
       "  <tbody>\n",
       "    <tr>\n",
       "      <th>0</th>\n",
       "      <td>2012-01-19</td>\n",
       "      <td>110.79</td>\n",
       "      <td>110.82</td>\n",
       "      <td>109.96</td>\n",
       "      <td>110.39</td>\n",
       "    </tr>\n",
       "    <tr>\n",
       "      <th>1</th>\n",
       "      <td>2012-01-20</td>\n",
       "      <td>110.45</td>\n",
       "      <td>111.10</td>\n",
       "      <td>110.36</td>\n",
       "      <td>110.73</td>\n",
       "    </tr>\n",
       "    <tr>\n",
       "      <th>2</th>\n",
       "      <td>2012-01-23</td>\n",
       "      <td>110.95</td>\n",
       "      <td>111.10</td>\n",
       "      <td>109.65</td>\n",
       "      <td>110.36</td>\n",
       "    </tr>\n",
       "    <tr>\n",
       "      <th>3</th>\n",
       "      <td>2012-01-24</td>\n",
       "      <td>110.16</td>\n",
       "      <td>110.16</td>\n",
       "      <td>108.13</td>\n",
       "      <td>108.39</td>\n",
       "    </tr>\n",
       "    <tr>\n",
       "      <th>4</th>\n",
       "      <td>2012-01-25</td>\n",
       "      <td>106.25</td>\n",
       "      <td>107.11</td>\n",
       "      <td>105.97</td>\n",
       "      <td>106.89</td>\n",
       "    </tr>\n",
       "  </tbody>\n",
       "</table>\n",
       "</div>"
      ],
      "text/plain": [
       "         Date    Open    High     Low   Close\n",
       "0  2012-01-19  110.79  110.82  109.96  110.39\n",
       "1  2012-01-20  110.45  111.10  110.36  110.73\n",
       "2  2012-01-23  110.95  111.10  109.65  110.36\n",
       "3  2012-01-24  110.16  110.16  108.13  108.39\n",
       "4  2012-01-25  106.25  107.11  105.97  106.89"
      ]
     },
     "execution_count": 5,
     "metadata": {},
     "output_type": "execute_result"
    }
   ],
   "source": [
    "test_df.head()"
   ]
  },
  {
   "cell_type": "code",
   "execution_count": 6,
   "metadata": {},
   "outputs": [
    {
     "name": "stdout",
     "output_type": "stream",
     "text": [
      "<class 'pandas.core.frame.DataFrame'>\n",
      "RangeIndex: 1200 entries, 0 to 1199\n",
      "Data columns (total 5 columns):\n",
      " #   Column  Non-Null Count  Dtype  \n",
      "---  ------  --------------  -----  \n",
      " 0   Date    1200 non-null   object \n",
      " 1   Open    1200 non-null   float64\n",
      " 2   High    1200 non-null   float64\n",
      " 3   Low     1200 non-null   float64\n",
      " 4   Close   1200 non-null   float64\n",
      "dtypes: float64(4), object(1)\n",
      "memory usage: 47.0+ KB\n"
     ]
    }
   ],
   "source": [
    "test_df.info()"
   ]
  },
  {
   "cell_type": "code",
   "execution_count": 7,
   "metadata": {},
   "outputs": [
    {
     "data": {
      "text/plain": [
       "(3226, 6)"
      ]
     },
     "execution_count": 7,
     "metadata": {},
     "output_type": "execute_result"
    }
   ],
   "source": [
    "# 基礎集計\n",
    "df = pd.concat([train_df, test_df], ignore_index=None)\n",
    "df.shape"
   ]
  },
  {
   "cell_type": "code",
   "execution_count": 8,
   "metadata": {},
   "outputs": [],
   "source": [
    "# plt.figure(figsize=(6, 4))\n",
    "# sns.relplot(data=df, x='Date', y='Close', kind='line')\n",
    "# plt.show()"
   ]
  },
  {
   "cell_type": "code",
   "execution_count": 9,
   "metadata": {},
   "outputs": [],
   "source": [
    "# plt.figure(figsize=(6, 4))\n",
    "# sns.countplot(data=train_df, x='Up')\n",
    "# plt.show()"
   ]
  },
  {
   "cell_type": "code",
   "execution_count": 10,
   "metadata": {},
   "outputs": [],
   "source": [
    "# 特徴量エンジニアリング\n",
    "# 移動平均 Moving Average (MA)\n",
    "ma_day = [20]#, 50, 200]\n",
    "for ma in ma_day:\n",
    "    column_name = f\"Close_{ma}MA\"\n",
    "    df[column_name] = df['Close'].rolling(ma, min_periods=1).mean()"
   ]
  },
  {
   "cell_type": "code",
   "execution_count": 11,
   "metadata": {},
   "outputs": [
    {
     "data": {
      "text/html": [
       "<div>\n",
       "<style scoped>\n",
       "    .dataframe tbody tr th:only-of-type {\n",
       "        vertical-align: middle;\n",
       "    }\n",
       "\n",
       "    .dataframe tbody tr th {\n",
       "        vertical-align: top;\n",
       "    }\n",
       "\n",
       "    .dataframe thead th {\n",
       "        text-align: right;\n",
       "    }\n",
       "</style>\n",
       "<table border=\"1\" class=\"dataframe\">\n",
       "  <thead>\n",
       "    <tr style=\"text-align: right;\">\n",
       "      <th></th>\n",
       "      <th>Date</th>\n",
       "      <th>Open</th>\n",
       "      <th>High</th>\n",
       "      <th>Low</th>\n",
       "      <th>Close</th>\n",
       "      <th>Up</th>\n",
       "      <th>Close_20MA</th>\n",
       "    </tr>\n",
       "  </thead>\n",
       "  <tbody>\n",
       "    <tr>\n",
       "      <th>0</th>\n",
       "      <td>2012-01-19</td>\n",
       "      <td>110.79</td>\n",
       "      <td>110.82</td>\n",
       "      <td>109.96</td>\n",
       "      <td>110.39</td>\n",
       "      <td>NaN</td>\n",
       "      <td>109.4080</td>\n",
       "    </tr>\n",
       "    <tr>\n",
       "      <th>1</th>\n",
       "      <td>2012-01-20</td>\n",
       "      <td>110.45</td>\n",
       "      <td>111.10</td>\n",
       "      <td>110.36</td>\n",
       "      <td>110.73</td>\n",
       "      <td>NaN</td>\n",
       "      <td>109.5215</td>\n",
       "    </tr>\n",
       "    <tr>\n",
       "      <th>2</th>\n",
       "      <td>2012-01-23</td>\n",
       "      <td>110.95</td>\n",
       "      <td>111.10</td>\n",
       "      <td>109.65</td>\n",
       "      <td>110.36</td>\n",
       "      <td>NaN</td>\n",
       "      <td>109.5675</td>\n",
       "    </tr>\n",
       "    <tr>\n",
       "      <th>3</th>\n",
       "      <td>2012-01-24</td>\n",
       "      <td>110.16</td>\n",
       "      <td>110.16</td>\n",
       "      <td>108.13</td>\n",
       "      <td>108.39</td>\n",
       "      <td>NaN</td>\n",
       "      <td>109.5720</td>\n",
       "    </tr>\n",
       "    <tr>\n",
       "      <th>4</th>\n",
       "      <td>2012-01-25</td>\n",
       "      <td>106.25</td>\n",
       "      <td>107.11</td>\n",
       "      <td>105.97</td>\n",
       "      <td>106.89</td>\n",
       "      <td>NaN</td>\n",
       "      <td>109.4415</td>\n",
       "    </tr>\n",
       "  </tbody>\n",
       "</table>\n",
       "</div>"
      ],
      "text/plain": [
       "         Date    Open    High     Low   Close  Up  Close_20MA\n",
       "0  2012-01-19  110.79  110.82  109.96  110.39 NaN    109.4080\n",
       "1  2012-01-20  110.45  111.10  110.36  110.73 NaN    109.5215\n",
       "2  2012-01-23  110.95  111.10  109.65  110.36 NaN    109.5675\n",
       "3  2012-01-24  110.16  110.16  108.13  108.39 NaN    109.5720\n",
       "4  2012-01-25  106.25  107.11  105.97  106.89 NaN    109.4415"
      ]
     },
     "execution_count": 11,
     "metadata": {},
     "output_type": "execute_result"
    }
   ],
   "source": [
    "# データの分割\n",
    "train = df[~df['Up'].isnull()]\n",
    "test = df[df['Up'].isnull()]\n",
    "test.head()\n"
   ]
  },
  {
   "cell_type": "code",
   "execution_count": 12,
   "metadata": {},
   "outputs": [
    {
     "name": "stdout",
     "output_type": "stream",
     "text": [
      "元のデータフレーム (2026, 7)\n",
      "説明変数 (2026, 3)\n",
      "目的変数 (2026,)\n"
     ]
    }
   ],
   "source": [
    "X_train = train.drop(columns=['Date', 'Up', 'Low', 'High'])\n",
    "# X_train = train.drop(columns=['Date', 'Up', 'Low', 'High' ])\n",
    "y_train = train['Up']\n",
    "print(\"元のデータフレーム\", train.shape)\n",
    "print(\"説明変数\", X_train.shape)\n",
    "print(\"目的変数\", y_train.shape)"
   ]
  },
  {
   "cell_type": "code",
   "execution_count": 13,
   "metadata": {},
   "outputs": [],
   "source": [
    "# X_tr, X_va, y_tr, y_va = train_test_split(X_train, y_train, test_size=0.2, shuffle=False, random_state=42)\n",
    "X_tr, X_va, y_tr, y_va = train_test_split(X_train, y_train, test_size=0.2, stratify=y_train, random_state=42)"
   ]
  },
  {
   "cell_type": "code",
   "execution_count": 14,
   "metadata": {},
   "outputs": [
    {
     "data": {
      "text/html": [
       "<div>\n",
       "<style scoped>\n",
       "    .dataframe tbody tr th:only-of-type {\n",
       "        vertical-align: middle;\n",
       "    }\n",
       "\n",
       "    .dataframe tbody tr th {\n",
       "        vertical-align: top;\n",
       "    }\n",
       "\n",
       "    .dataframe thead th {\n",
       "        text-align: right;\n",
       "    }\n",
       "</style>\n",
       "<table border=\"1\" class=\"dataframe\">\n",
       "  <thead>\n",
       "    <tr style=\"text-align: right;\">\n",
       "      <th></th>\n",
       "      <th>Open</th>\n",
       "      <th>Close</th>\n",
       "      <th>Close_20MA</th>\n",
       "    </tr>\n",
       "  </thead>\n",
       "  <tbody>\n",
       "    <tr>\n",
       "      <th>1052</th>\n",
       "      <td>73.78</td>\n",
       "      <td>73.12</td>\n",
       "      <td>74.3255</td>\n",
       "    </tr>\n",
       "    <tr>\n",
       "      <th>1333</th>\n",
       "      <td>74.71</td>\n",
       "      <td>74.77</td>\n",
       "      <td>74.4885</td>\n",
       "    </tr>\n",
       "    <tr>\n",
       "      <th>1604</th>\n",
       "      <td>86.41</td>\n",
       "      <td>86.01</td>\n",
       "      <td>86.2160</td>\n",
       "    </tr>\n",
       "    <tr>\n",
       "      <th>449</th>\n",
       "      <td>56.62</td>\n",
       "      <td>56.37</td>\n",
       "      <td>56.9070</td>\n",
       "    </tr>\n",
       "    <tr>\n",
       "      <th>713</th>\n",
       "      <td>64.29</td>\n",
       "      <td>64.09</td>\n",
       "      <td>63.7195</td>\n",
       "    </tr>\n",
       "  </tbody>\n",
       "</table>\n",
       "</div>"
      ],
      "text/plain": [
       "       Open  Close  Close_20MA\n",
       "1052  73.78  73.12     74.3255\n",
       "1333  74.71  74.77     74.4885\n",
       "1604  86.41  86.01     86.2160\n",
       "449   56.62  56.37     56.9070\n",
       "713   64.29  64.09     63.7195"
      ]
     },
     "execution_count": 14,
     "metadata": {},
     "output_type": "execute_result"
    }
   ],
   "source": [
    "X_tr.head()"
   ]
  },
  {
   "cell_type": "code",
   "execution_count": 15,
   "metadata": {},
   "outputs": [
    {
     "data": {
      "text/plain": [
       "Up\n",
       "1.0    836\n",
       "0.0    784\n",
       "Name: count, dtype: int64"
      ]
     },
     "execution_count": 15,
     "metadata": {},
     "output_type": "execute_result"
    }
   ],
   "source": [
    "y_tr.value_counts()"
   ]
  },
  {
   "cell_type": "code",
   "execution_count": 16,
   "metadata": {},
   "outputs": [
    {
     "data": {
      "text/plain": [
       "Up\n",
       "1.0    209\n",
       "0.0    197\n",
       "Name: count, dtype: int64"
      ]
     },
     "execution_count": 16,
     "metadata": {},
     "output_type": "execute_result"
    }
   ],
   "source": [
    "y_va.value_counts()"
   ]
  },
  {
   "cell_type": "code",
   "execution_count": 17,
   "metadata": {},
   "outputs": [
    {
     "data": {
      "text/html": [
       "<div>\n",
       "<style scoped>\n",
       "    .dataframe tbody tr th:only-of-type {\n",
       "        vertical-align: middle;\n",
       "    }\n",
       "\n",
       "    .dataframe tbody tr th {\n",
       "        vertical-align: top;\n",
       "    }\n",
       "\n",
       "    .dataframe thead th {\n",
       "        text-align: right;\n",
       "    }\n",
       "</style>\n",
       "<table border=\"1\" class=\"dataframe\">\n",
       "  <thead>\n",
       "    <tr style=\"text-align: right;\">\n",
       "      <th></th>\n",
       "      <th>Open</th>\n",
       "      <th>Close</th>\n",
       "      <th>Close_20MA</th>\n",
       "    </tr>\n",
       "  </thead>\n",
       "  <tbody>\n",
       "    <tr>\n",
       "      <th>0</th>\n",
       "      <td>110.79</td>\n",
       "      <td>110.39</td>\n",
       "      <td>109.4080</td>\n",
       "    </tr>\n",
       "    <tr>\n",
       "      <th>1</th>\n",
       "      <td>110.45</td>\n",
       "      <td>110.73</td>\n",
       "      <td>109.5215</td>\n",
       "    </tr>\n",
       "    <tr>\n",
       "      <th>2</th>\n",
       "      <td>110.95</td>\n",
       "      <td>110.36</td>\n",
       "      <td>109.5675</td>\n",
       "    </tr>\n",
       "    <tr>\n",
       "      <th>3</th>\n",
       "      <td>110.16</td>\n",
       "      <td>108.39</td>\n",
       "      <td>109.5720</td>\n",
       "    </tr>\n",
       "    <tr>\n",
       "      <th>4</th>\n",
       "      <td>106.25</td>\n",
       "      <td>106.89</td>\n",
       "      <td>109.4415</td>\n",
       "    </tr>\n",
       "  </tbody>\n",
       "</table>\n",
       "</div>"
      ],
      "text/plain": [
       "     Open   Close  Close_20MA\n",
       "0  110.79  110.39    109.4080\n",
       "1  110.45  110.73    109.5215\n",
       "2  110.95  110.36    109.5675\n",
       "3  110.16  108.39    109.5720\n",
       "4  106.25  106.89    109.4415"
      ]
     },
     "execution_count": 17,
     "metadata": {},
     "output_type": "execute_result"
    }
   ],
   "source": [
    "X_test = test.drop(columns=['Date', 'Up', 'Low', 'High'])\n",
    "X_test.head()"
   ]
  },
  {
   "cell_type": "code",
   "execution_count": 18,
   "metadata": {},
   "outputs": [],
   "source": [
    "lgb.LGBMClassifier()\n",
    "\n",
    "params = {\n",
    "            'task':         'train',\n",
    "            'boosting_type':'gbdt',\n",
    "            'objective':    'binary',\n",
    "            'verbose':      '2',\n",
    "            'force_col_wise':'True',\n",
    "            'random_state': '42'\n",
    "}"
   ]
  },
  {
   "cell_type": "code",
   "execution_count": 19,
   "metadata": {},
   "outputs": [],
   "source": [
    "train_data = lgb.Dataset(X_tr, label=y_tr)\n",
    "eval_data = lgb.Dataset(X_va, label=y_va, reference=train_data)"
   ]
  },
  {
   "cell_type": "code",
   "execution_count": 20,
   "metadata": {},
   "outputs": [
    {
     "name": "stdout",
     "output_type": "stream",
     "text": [
      "[LightGBM] [Info] Number of positive: 836, number of negative: 784\n",
      "[LightGBM] [Info] Total Bins 765\n",
      "[LightGBM] [Info] Number of data points in the train set: 1620, number of used features: 3\n",
      "[LightGBM] [Info] [binary:BoostFromScore]: pavg=0.516049 -> initscore=0.064220\n",
      "[LightGBM] [Info] Start training from score 0.064220\n",
      "[LightGBM] [Debug] Trained a tree with leaves = 31 and depth = 15\n",
      "[LightGBM] [Debug] Trained a tree with leaves = 31 and depth = 17\n",
      "[LightGBM] [Debug] Trained a tree with leaves = 31 and depth = 17\n",
      "[LightGBM] [Debug] Trained a tree with leaves = 31 and depth = 18\n",
      "[LightGBM] [Debug] Trained a tree with leaves = 31 and depth = 17\n",
      "[LightGBM] [Debug] Trained a tree with leaves = 31 and depth = 23\n",
      "[LightGBM] [Debug] Trained a tree with leaves = 31 and depth = 20\n",
      "[LightGBM] [Debug] Trained a tree with leaves = 31 and depth = 20\n",
      "[LightGBM] [Debug] Trained a tree with leaves = 31 and depth = 19\n",
      "[LightGBM] [Debug] Trained a tree with leaves = 31 and depth = 22\n",
      "[LightGBM] [Debug] Trained a tree with leaves = 31 and depth = 16\n",
      "[LightGBM] [Debug] Trained a tree with leaves = 31 and depth = 24\n",
      "[LightGBM] [Debug] Trained a tree with leaves = 31 and depth = 18\n",
      "[LightGBM] [Debug] Trained a tree with leaves = 31 and depth = 17\n",
      "[LightGBM] [Debug] Trained a tree with leaves = 31 and depth = 20\n",
      "[LightGBM] [Debug] Trained a tree with leaves = 31 and depth = 19\n",
      "[LightGBM] [Debug] Trained a tree with leaves = 31 and depth = 19\n",
      "[LightGBM] [Debug] Trained a tree with leaves = 31 and depth = 19\n",
      "[LightGBM] [Debug] Trained a tree with leaves = 31 and depth = 24\n",
      "[LightGBM] [Debug] Trained a tree with leaves = 31 and depth = 27\n",
      "[LightGBM] [Debug] Trained a tree with leaves = 31 and depth = 21\n",
      "[LightGBM] [Debug] Trained a tree with leaves = 31 and depth = 21\n",
      "[LightGBM] [Debug] Trained a tree with leaves = 31 and depth = 20\n",
      "[LightGBM] [Debug] Trained a tree with leaves = 31 and depth = 21\n",
      "[LightGBM] [Debug] Trained a tree with leaves = 31 and depth = 27\n",
      "[LightGBM] [Debug] Trained a tree with leaves = 31 and depth = 26\n",
      "[LightGBM] [Debug] Trained a tree with leaves = 31 and depth = 27\n",
      "[LightGBM] [Debug] Trained a tree with leaves = 31 and depth = 28\n",
      "[LightGBM] [Debug] Trained a tree with leaves = 31 and depth = 29\n",
      "[LightGBM] [Debug] Trained a tree with leaves = 31 and depth = 28\n",
      "[LightGBM] [Debug] Trained a tree with leaves = 31 and depth = 24\n",
      "[LightGBM] [Debug] Trained a tree with leaves = 31 and depth = 30\n",
      "[LightGBM] [Debug] Trained a tree with leaves = 31 and depth = 29\n",
      "[LightGBM] [Debug] Trained a tree with leaves = 31 and depth = 28\n",
      "[LightGBM] [Debug] Trained a tree with leaves = 31 and depth = 30\n",
      "[LightGBM] [Debug] Trained a tree with leaves = 31 and depth = 30\n",
      "[LightGBM] [Debug] Trained a tree with leaves = 31 and depth = 29\n",
      "[LightGBM] [Debug] Trained a tree with leaves = 31 and depth = 27\n",
      "[LightGBM] [Debug] Trained a tree with leaves = 31 and depth = 27\n",
      "[LightGBM] [Debug] Trained a tree with leaves = 31 and depth = 25\n",
      "[LightGBM] [Debug] Trained a tree with leaves = 31 and depth = 30\n",
      "[LightGBM] [Debug] Trained a tree with leaves = 31 and depth = 29\n",
      "[LightGBM] [Debug] Trained a tree with leaves = 31 and depth = 22\n",
      "[LightGBM] [Debug] Trained a tree with leaves = 31 and depth = 30\n",
      "[LightGBM] [Debug] Trained a tree with leaves = 31 and depth = 26\n",
      "[LightGBM] [Debug] Trained a tree with leaves = 31 and depth = 26\n",
      "[LightGBM] [Debug] Trained a tree with leaves = 31 and depth = 23\n",
      "[LightGBM] [Debug] Trained a tree with leaves = 31 and depth = 29\n",
      "[LightGBM] [Debug] Trained a tree with leaves = 31 and depth = 26\n",
      "[LightGBM] [Debug] Trained a tree with leaves = 31 and depth = 28\n",
      "[LightGBM] [Debug] Trained a tree with leaves = 31 and depth = 24\n",
      "[LightGBM] [Debug] Trained a tree with leaves = 31 and depth = 27\n",
      "[LightGBM] [Debug] Trained a tree with leaves = 31 and depth = 24\n",
      "[LightGBM] [Debug] Trained a tree with leaves = 31 and depth = 24\n",
      "[LightGBM] [Debug] Trained a tree with leaves = 31 and depth = 26\n",
      "[LightGBM] [Debug] Trained a tree with leaves = 31 and depth = 24\n",
      "[LightGBM] [Debug] Trained a tree with leaves = 31 and depth = 25\n",
      "[LightGBM] [Debug] Trained a tree with leaves = 31 and depth = 24\n",
      "[LightGBM] [Debug] Trained a tree with leaves = 31 and depth = 20\n",
      "[LightGBM] [Debug] Trained a tree with leaves = 31 and depth = 24\n",
      "[LightGBM] [Debug] Trained a tree with leaves = 31 and depth = 26\n",
      "[LightGBM] [Debug] Trained a tree with leaves = 31 and depth = 21\n",
      "[LightGBM] [Debug] Trained a tree with leaves = 31 and depth = 25\n",
      "[LightGBM] [Debug] Trained a tree with leaves = 31 and depth = 23\n",
      "[LightGBM] [Debug] Trained a tree with leaves = 31 and depth = 25\n",
      "[LightGBM] [Debug] Trained a tree with leaves = 31 and depth = 27\n",
      "[LightGBM] [Debug] Trained a tree with leaves = 31 and depth = 28\n",
      "[LightGBM] [Debug] Trained a tree with leaves = 31 and depth = 24\n",
      "[LightGBM] [Debug] Trained a tree with leaves = 31 and depth = 23\n",
      "[LightGBM] [Debug] Trained a tree with leaves = 31 and depth = 27\n",
      "[LightGBM] [Debug] Trained a tree with leaves = 31 and depth = 26\n",
      "[LightGBM] [Debug] Trained a tree with leaves = 31 and depth = 22\n",
      "[LightGBM] [Debug] Trained a tree with leaves = 31 and depth = 24\n",
      "[LightGBM] [Debug] Trained a tree with leaves = 31 and depth = 26\n",
      "[LightGBM] [Debug] Trained a tree with leaves = 31 and depth = 23\n",
      "[LightGBM] [Debug] Trained a tree with leaves = 31 and depth = 22\n",
      "[LightGBM] [Debug] Trained a tree with leaves = 31 and depth = 26\n",
      "[LightGBM] [Debug] Trained a tree with leaves = 31 and depth = 25\n",
      "[LightGBM] [Debug] Trained a tree with leaves = 31 and depth = 23\n",
      "[LightGBM] [Debug] Trained a tree with leaves = 31 and depth = 25\n",
      "[LightGBM] [Debug] Trained a tree with leaves = 31 and depth = 18\n",
      "[LightGBM] [Debug] Trained a tree with leaves = 31 and depth = 22\n",
      "[LightGBM] [Debug] Trained a tree with leaves = 31 and depth = 27\n",
      "[LightGBM] [Debug] Trained a tree with leaves = 31 and depth = 24\n",
      "[LightGBM] [Debug] Trained a tree with leaves = 31 and depth = 26\n",
      "[LightGBM] [Debug] Trained a tree with leaves = 31 and depth = 23\n",
      "[LightGBM] [Debug] Trained a tree with leaves = 31 and depth = 24\n",
      "[LightGBM] [Debug] Trained a tree with leaves = 31 and depth = 21\n",
      "[LightGBM] [Debug] Trained a tree with leaves = 31 and depth = 21\n",
      "[LightGBM] [Debug] Trained a tree with leaves = 31 and depth = 27\n",
      "[LightGBM] [Debug] Trained a tree with leaves = 31 and depth = 25\n",
      "[LightGBM] [Debug] Trained a tree with leaves = 31 and depth = 24\n",
      "[LightGBM] [Debug] Trained a tree with leaves = 31 and depth = 22\n",
      "[LightGBM] [Debug] Trained a tree with leaves = 31 and depth = 23\n",
      "[LightGBM] [Debug] Trained a tree with leaves = 31 and depth = 27\n",
      "[LightGBM] [Debug] Trained a tree with leaves = 31 and depth = 23\n",
      "[LightGBM] [Debug] Trained a tree with leaves = 31 and depth = 23\n",
      "[LightGBM] [Debug] Trained a tree with leaves = 31 and depth = 27\n",
      "[LightGBM] [Debug] Trained a tree with leaves = 31 and depth = 24\n",
      "[LightGBM] [Debug] Trained a tree with leaves = 31 and depth = 24\n"
     ]
    }
   ],
   "source": [
    "gbm = lgb.train(params,\n",
    "                train_data,\n",
    "                valid_sets=eval_data,\n",
    "                )"
   ]
  },
  {
   "cell_type": "code",
   "execution_count": 21,
   "metadata": {},
   "outputs": [
    {
     "name": "stdout",
     "output_type": "stream",
     "text": [
      "学習データの精度 0.7901234567901234\n",
      "評価データの精度 0.5344827586206896\n"
     ]
    }
   ],
   "source": [
    "y_tr_prob_gbm = gbm.predict(X_tr)\n",
    "y_tr_pred_gbm = np.where(y_tr_prob_gbm < 0.5, 0, 1)\n",
    "y_va_prob_gbm = gbm.predict(X_va)\n",
    "y_va_pred_gbm = np.where(y_va_prob_gbm < 0.5, 0, 1)\n",
    "\n",
    "# y_va_pred_gbm[:5]\n",
    "accuracy_tr_gbm = accuracy_score(y_tr, y_tr_pred_gbm)\n",
    "accuracy_va_gbm = accuracy_score(y_va, y_va_pred_gbm)\n",
    "\n",
    "print(\"学習データの精度\", accuracy_tr_gbm)\n",
    "print(\"評価データの精度\", accuracy_va_gbm)\n",
    "\n",
    "# y_test_prob_gbm = gbm.predict(X_test)\n",
    "# y_test_pred_gbm = np.where(y_test_prob_gbm < 0.5, 0, 1)\n",
    "\n",
    "# test_df['Up'] = y_test_pred_gbm\n",
    "# test_df['Up'] = test_df['Up'].astype(int)\n",
    "\n",
    "# submit_df = test_df[['Date', 'Up']].set_index('Date')\n",
    "# submit_df.dtypes\n",
    "\n",
    "# submit_df.to_csv(\"../data/submission_gbm.csv\", header=False)"
   ]
  },
  {
   "cell_type": "code",
   "execution_count": 22,
   "metadata": {},
   "outputs": [
    {
     "data": {
      "text/plain": [
       "<Axes: title={'center': 'Feature importance'}, xlabel='Feature importance', ylabel='Features'>"
      ]
     },
     "execution_count": 22,
     "metadata": {},
     "output_type": "execute_result"
    },
    {
     "data": {
      "image/png": "[encoded data removed]",
      "text/plain": [
       "<Figure size 640x480 with 1 Axes>"
      ]
     },
     "metadata": {},
     "output_type": "display_data"
    }
   ],
   "source": [
    "lgb.plot_importance(gbm)"
   ]
  },
  {
   "cell_type": "code",
   "execution_count": 23,
   "metadata": {},
   "outputs": [],
   "source": [
    "# lgb.create_tree_digraph(gbm, 1)"
   ]
  },
  {
   "cell_type": "code",
   "execution_count": 24,
   "metadata": {},
   "outputs": [],
   "source": [
    "dtrain = xgb.DMatrix(X_tr, label=y_tr)\n"
   ]
  },
  {
   "cell_type": "code",
   "execution_count": 25,
   "metadata": {},
   "outputs": [],
   "source": [
    "param = {'objective': 'binary:logistic'}#, 'num_class': 2}"
   ]
  },
  {
   "cell_type": "code",
   "execution_count": 26,
   "metadata": {},
   "outputs": [],
   "source": [
    "# 学習\n",
    "bst = xgb.train(param, dtrain)#, num_round)"
   ]
  },
  {
   "cell_type": "code",
   "execution_count": 27,
   "metadata": {},
   "outputs": [
    {
     "name": "stdout",
     "output_type": "stream",
     "text": [
      "学習データの精度 0.6981481481481482\n",
      "評価データの精度 0.5295566502463054\n"
     ]
    }
   ],
   "source": [
    "dvalid = xgb.DMatrix(X_va)\n",
    "\n",
    "y_tr_prob_bst = bst.predict(dtrain)\n",
    "y_tr_pred_bst = np.where(y_tr_prob_bst < 0.5, 0, 1)\n",
    "y_va_prob_bst = bst.predict(dvalid)\n",
    "y_va_pred_bst = np.where(y_va_prob_bst < 0.5, 0, 1)\n",
    "\n",
    "accuracy_tr_bst = accuracy_score(y_tr, y_tr_pred_bst)\n",
    "accuracy_va_bst = accuracy_score(y_va, y_va_pred_bst)\n",
    "\n",
    "print(\"学習データの精度\", accuracy_tr_bst)\n",
    "print(\"評価データの精度\", accuracy_va_bst)\n",
    "\n",
    "dtest = xgb.DMatrix(X_test)\n",
    "y_test_prob_bst = bst.predict(dtest)\n",
    "y_test_pred_bst = np.where(y_test_prob_bst < 0.5, 0, 1)\n",
    "# print(y_test_pred_bst)\n",
    "\n",
    "\n",
    "# test_df['Up'] = y_test_pred_bst\n",
    "# test_df['Up'] = test_df['Up'].astype(int)\n",
    "\n",
    "# submit_df = test_df[['Date', 'Up']].set_index('Date')\n",
    "# submit_df.dtypes\n",
    "\n",
    "# submit_df.to_csv(\"../data/submission_bst.csv\", header=False)"
   ]
  },
  {
   "cell_type": "markdown",
   "metadata": {},
   "source": [
    "bstは後半全部0になっている"
   ]
  },
  {
   "cell_type": "code",
   "execution_count": 28,
   "metadata": {},
   "outputs": [
    {
     "data": {
      "text/plain": [
       "<Axes: title={'center': 'Feature importance'}, xlabel='F score', ylabel='Features'>"
      ]
     },
     "execution_count": 28,
     "metadata": {},
     "output_type": "execute_result"
    },
    {
     "data": {
      "image/png": "[encoded data removed]",
      "text/plain": [
       "<Figure size 640x480 with 1 Axes>"
      ]
     },
     "metadata": {},
     "output_type": "display_data"
    }
   ],
   "source": [
    "xgb.plot_importance(bst)"
   ]
  },
  {
   "cell_type": "code",
   "execution_count": 29,
   "metadata": {},
   "outputs": [],
   "source": [
    "nn = MLPClassifier(hidden_layer_sizes=(100, ),\n",
    "                   activation='relu',\n",
    "                   solver='adam',\n",
    "                   early_stopping=True,\n",
    "                #    verbose=True,\n",
    "                   random_state=42)"
   ]
  },
  {
   "cell_type": "code",
   "execution_count": 30,
   "metadata": {},
   "outputs": [
    {
     "data": {
      "text/html": [
       "<style>#sk-container-id-1 {color: black;}#sk-container-id-1 pre{padding: 0;}#sk-container-id-1 div.sk-toggleable {background-color: white;}#sk-container-id-1 label.sk-toggleable__label {cursor: pointer;display: block;width: 100%;margin-bottom: 0;padding: 0.3em;box-sizing: border-box;text-align: center;}#sk-container-id-1 label.sk-toggleable__label-arrow:before {content: \"▸\";float: left;margin-right: 0.25em;color: #696969;}#sk-container-id-1 label.sk-toggleable__label-arrow:hover:before {color: black;}#sk-container-id-1 div.sk-estimator:hover label.sk-toggleable__label-arrow:before {color: black;}#sk-container-id-1 div.sk-toggleable__content {max-height: 0;max-width: 0;overflow: hidden;text-align: left;background-color: #f0f8ff;}#sk-container-id-1 div.sk-toggleable__content pre {margin: 0.2em;color: black;border-radius: 0.25em;background-color: #f0f8ff;}#sk-container-id-1 input.sk-toggleable__control:checked~div.sk-toggleable__content {max-height: 200px;max-width: 100%;overflow: auto;}#sk-container-id-1 input.sk-toggleable__control:checked~label.sk-toggleable__label-arrow:before {content: \"▾\";}#sk-container-id-1 div.sk-estimator input.sk-toggleable__control:checked~label.sk-toggleable__label {background-color: #d4ebff;}#sk-container-id-1 div.sk-label input.sk-toggleable__control:checked~label.sk-toggleable__label {background-color: #d4ebff;}#sk-container-id-1 input.sk-hidden--visually {border: 0;clip: rect(1px 1px 1px 1px);clip: rect(1px, 1px, 1px, 1px);height: 1px;margin: -1px;overflow: hidden;padding: 0;position: absolute;width: 1px;}#sk-container-id-1 div.sk-estimator {font-family: monospace;background-color: #f0f8ff;border: 1px dotted black;border-radius: 0.25em;box-sizing: border-box;margin-bottom: 0.5em;}#sk-container-id-1 div.sk-estimator:hover {background-color: #d4ebff;}#sk-container-id-1 div.sk-parallel-item::after {content: \"\";width: 100%;border-bottom: 1px solid gray;flex-grow: 1;}#sk-container-id-1 div.sk-label:hover label.sk-toggleable__label {background-color: #d4ebff;}#sk-container-id-1 div.sk-serial::before {content: \"\";position: absolute;border-left: 1px solid gray;box-sizing: border-box;top: 0;bottom: 0;left: 50%;z-index: 0;}#sk-container-id-1 div.sk-serial {display: flex;flex-direction: column;align-items: center;background-color: white;padding-right: 0.2em;padding-left: 0.2em;position: relative;}#sk-container-id-1 div.sk-item {position: relative;z-index: 1;}#sk-container-id-1 div.sk-parallel {display: flex;align-items: stretch;justify-content: center;background-color: white;position: relative;}#sk-container-id-1 div.sk-item::before, #sk-container-id-1 div.sk-parallel-item::before {content: \"\";position: absolute;border-left: 1px solid gray;box-sizing: border-box;top: 0;bottom: 0;left: 50%;z-index: -1;}#sk-container-id-1 div.sk-parallel-item {display: flex;flex-direction: column;z-index: 1;position: relative;background-color: white;}#sk-container-id-1 div.sk-parallel-item:first-child::after {align-self: flex-end;width: 50%;}#sk-container-id-1 div.sk-parallel-item:last-child::after {align-self: flex-start;width: 50%;}#sk-container-id-1 div.sk-parallel-item:only-child::after {width: 0;}#sk-container-id-1 div.sk-dashed-wrapped {border: 1px dashed gray;margin: 0 0.4em 0.5em 0.4em;box-sizing: border-box;padding-bottom: 0.4em;background-color: white;}#sk-container-id-1 div.sk-label label {font-family: monospace;font-weight: bold;display: inline-block;line-height: 1.2em;}#sk-container-id-1 div.sk-label-container {text-align: center;}#sk-container-id-1 div.sk-container {/* jupyter's `normalize.less` sets `[hidden] { display: none; }` but bootstrap.min.css set `[hidden] { display: none !important; }` so we also need the `!important` here to be able to override the default hidden behavior on the sphinx rendered scikit-learn.org. See: https://github.com/scikit-learn/scikit-learn/issues/21755 */display: inline-block !important;position: relative;}#sk-container-id-1 div.sk-text-repr-fallback {display: none;}</style><div id=\"sk-container-id-1\" class=\"sk-top-container\"><div class=\"sk-text-repr-fallback\"><pre>MLPClassifier(early_stopping=True, random_state=42)</pre><b>In a Jupyter environment, please rerun this cell to show the HTML representation or trust the notebook. <br />On GitHub, the HTML representation is unable to render, please try loading this page with nbviewer.org.</b></div><div class=\"sk-container\" hidden><div class=\"sk-item\"><div class=\"sk-estimator sk-toggleable\"><input class=\"sk-toggleable__control sk-hidden--visually\" id=\"sk-estimator-id-1\" type=\"checkbox\" checked><label for=\"sk-estimator-id-1\" class=\"sk-toggleable__label sk-toggleable__label-arrow\">MLPClassifier</label><div class=\"sk-toggleable__content\"><pre>MLPClassifier(early_stopping=True, random_state=42)</pre></div></div></div></div></div>"
      ],
      "text/plain": [
       "MLPClassifier(early_stopping=True, random_state=42)"
      ]
     },
     "execution_count": 30,
     "metadata": {},
     "output_type": "execute_result"
    }
   ],
   "source": [
    "nn.fit(X_tr, y_tr)"
   ]
  },
  {
   "cell_type": "code",
   "execution_count": 31,
   "metadata": {},
   "outputs": [
    {
     "name": "stdout",
     "output_type": "stream",
     "text": [
      "学習データの精度 0.5148148148148148\n",
      "評価データの精度 0.5147783251231527\n"
     ]
    }
   ],
   "source": [
    "y_tr_pred_nn = nn.predict(X_tr)\n",
    "y_va_pred_nn = nn.predict(X_va)\n",
    "\n",
    "accuracy_tr_nn = accuracy_score(y_tr, y_tr_pred_nn)\n",
    "accuracy_va_nn = accuracy_score(y_va, y_va_pred_nn)\n",
    "\n",
    "print(\"学習データの精度\", accuracy_tr_nn)\n",
    "print(\"評価データの精度\", accuracy_va_nn)\n",
    "\n",
    "y_test_pred_nn = nn.predict(X_test)\n",
    "\n",
    "test_df['Up_NN'] = y_test_pred_nn\n",
    "test_df['Up_NN'] = test_df['Up_NN'].astype(int)\n",
    "\n",
    "submit_df = test_df[['Date', 'Up_NN']].set_index('Date')\n",
    "submit_df.dtypes\n",
    "\n",
    "submit_df.to_csv(\"../data/submission_NN.csv\", header=False)"
   ]
  },
  {
   "cell_type": "code",
   "execution_count": 32,
   "metadata": {},
   "outputs": [],
   "source": [
    "# from sklearn.inspection import permutation_importance\n",
    "# result = permutation_importance(nn, X_tr, y_tr, random_state=42)\n",
    "\n",
    "# # 特徴量の重要度をプロット\n",
    "# columns = ['Open', 'High', 'Close', 'Close_20MA']\n",
    "# plt.bar(columns, result.importances_mean)\n",
    "# plt.xlabel('Feature Index')\n",
    "# plt.ylabel('Permutation Importance')\n",
    "# plt.show()\n",
    "# # sorted_importances = result.importances_mean.argsort()\n",
    "# # plt.bar(result['importances'])"
   ]
  }
 ],
 "metadata": {
  "kernelspec": {
   "display_name": "kaggle",
   "language": "python",
   "name": "python3"
  },
  "language_info": {
   "codemirror_mode": {
    "name": "ipython",
    "version": 3
   },
   "file_extension": ".py",
   "mimetype": "text/x-python",
   "name": "python",
   "nbconvert_exporter": "python",
   "pygments_lexer": "ipython3",
   "version": "3.10.13"
  }
 },
 "nbformat": 4,
 "nbformat_minor": 2
}
