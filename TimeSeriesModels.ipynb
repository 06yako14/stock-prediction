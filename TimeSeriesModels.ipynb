{
  "nbformat": 4,
  "nbformat_minor": 0,
  "metadata": {
    "colab": {
      "provenance": [],
      "authorship_tag": "ABX9TyMCOEek6FMdUD+Q539mxFCJ",
      "include_colab_link": true
    },
    "kernelspec": {
      "name": "python3",
      "display_name": "Python 3"
    },
    "language_info": {
      "name": "python"
    }
  },
  "cells": [
    {
      "cell_type": "markdown",
      "metadata": {
        "id": "view-in-github",
        "colab_type": "text"
      },
      "source": [
        "<a href=\"https://colab.research.google.com/github/06yako14/stock-prediction/blob/dev/TimeSeriesModels.ipynb\" target=\"_parent\"><img src=\"https://colab.research.google.com/assets/colab-badge.svg\" alt=\"Open In Colab\"/></a>"
      ]
    },
    {
      "cell_type": "markdown",
      "source": [
        "# 時系列モデルによる日経平均株価予測"
      ],
      "metadata": {
        "id": "cfdFBJa-lBY0"
      }
    },
    {
      "cell_type": "markdown",
      "source": [
        "## 概要\n",
        "2024年1月より新NISAの開始に伴い、株式投資への機運が高まっている。<br>\n",
        "業務で触れている機械学習や統計解析をもとに日経平均株価の予測を行う。"
      ],
      "metadata": {
        "id": "uqoqW3kxlVTe"
      }
    },
    {
      "cell_type": "markdown",
      "source": [
        "### 使用ライブラリのインポート"
      ],
      "metadata": {
        "id": "ALUhyGWWmIxu"
      }
    },
    {
      "cell_type": "code",
      "source": [
        "import datetime\n",
        "import pandas as pd\n",
        "import numpy as np\n",
        "\n",
        "import matplotlib.pyplot as plt\n",
        "# !pip install japanize_matplotlib\n",
        "import japanize_matplotlib\n",
        "import seaborn as sns\n",
        "\n",
        "import yfinance as yf\n",
        "\n",
        "# 予測モデル\n",
        "# 自己回帰モデル\n",
        "# !pip install statsmodels\n",
        "from statsmodels.tsa.ar_model import AR\n",
        "\n",
        "from sklearn.metrics import mean_squared_error\n",
        "\n",
        "# Pandasのオプション\n",
        "pd.options.display.max_columns=100\n",
        "pd.options.display.max_rows=50\n",
        "\n",
        "%matplotlib inline"
      ],
      "metadata": {
        "id": "w3O6g5DBlL8t"
      },
      "execution_count": 5,
      "outputs": []
    },
    {
      "cell_type": "markdown",
      "source": [
        "### データの読み込み"
      ],
      "metadata": {
        "id": "B7vEgJnrpSW4"
      }
    },
    {
      "cell_type": "code",
      "execution_count": 6,
      "metadata": {
        "id": "zrmImUnIk74w"
      },
      "outputs": [],
      "source": [
        "# 取得日付を指定\n",
        "# start = detatime.datetime(1965, 1, 5) # yfinanceに保存されているデータの開始日\n",
        "# end = datetime.datetime.today()"
      ]
    },
    {
      "cell_type": "code",
      "source": [
        "# 株（指標）の銘柄コード、ティッカーシンボルの設定\n",
        "# 今回は日経平均株価\n",
        "stock_code = '^N225'"
      ],
      "metadata": {
        "id": "-Cz2dfMXpslb"
      },
      "execution_count": 7,
      "outputs": []
    },
    {
      "cell_type": "code",
      "source": [
        "# 株価取得\n",
        "# nikkei = yf.downlod(tickers=stock_code, start=start, end=end)\n",
        "nikkei = yf.download(tickers=stock_code)"
      ],
      "metadata": {
        "colab": {
          "base_uri": "https://localhost:8080/"
        },
        "id": "ysOo0r2tqGDs",
        "outputId": "d9f5ce3c-b662-4126-e3e6-cadf2bd1589e"
      },
      "execution_count": 8,
      "outputs": [
        {
          "output_type": "stream",
          "name": "stderr",
          "text": [
            "\r[*********************100%%**********************]  1 of 1 completed\n"
          ]
        }
      ]
    },
    {
      "cell_type": "markdown",
      "source": [
        "### データの確認"
      ],
      "metadata": {
        "id": "GYNXo-lrqFzV"
      }
    },
    {
      "cell_type": "code",
      "source": [],
      "metadata": {
        "id": "7M8kZt3Ysps2"
      },
      "execution_count": null,
      "outputs": []
    }
  ]
}